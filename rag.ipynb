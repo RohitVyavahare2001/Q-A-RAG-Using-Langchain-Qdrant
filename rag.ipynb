{
 "cells": [
  {
   "cell_type": "code",
   "execution_count": 1,
   "metadata": {},
   "outputs": [],
   "source": [
    "import os"
   ]
  },
  {
   "cell_type": "code",
   "execution_count": 2,
   "metadata": {},
   "outputs": [
    {
     "data": {
      "text/plain": [
       "True"
      ]
     },
     "execution_count": 2,
     "metadata": {},
     "output_type": "execute_result"
    }
   ],
   "source": [
    "from dotenv import load_dotenv\n",
    "load_dotenv()"
   ]
  },
  {
   "cell_type": "code",
   "execution_count": 12,
   "metadata": {},
   "outputs": [],
   "source": [
    "os.environ[\"groq_api_key\"] = os.getenv(\"groq_api_key\")"
   ]
  },
  {
   "cell_type": "code",
   "execution_count": 15,
   "metadata": {},
   "outputs": [],
   "source": [
    "from langchain_groq import ChatGroq\n",
    "llm=ChatGroq(model=\"qwen-2.5-32b\")"
   ]
  },
  {
   "cell_type": "code",
   "execution_count": 16,
   "metadata": {},
   "outputs": [
    {
     "data": {
      "text/plain": [
       "AIMessage(content='Hello! How can I assist you today?', additional_kwargs={}, response_metadata={'token_usage': {'completion_tokens': 10, 'prompt_tokens': 31, 'total_tokens': 41, 'completion_time': 0.026388079, 'prompt_time': 0.003920304, 'queue_time': 0.020915141, 'total_time': 0.030308383}, 'model_name': 'qwen-2.5-32b', 'system_fingerprint': 'fp_7b9ecfcd5f', 'finish_reason': 'stop', 'logprobs': None}, id='run-2012865f-c12b-47b8-8b67-5a0e8f300745-0', usage_metadata={'input_tokens': 31, 'output_tokens': 10, 'total_tokens': 41})"
      ]
     },
     "execution_count": 16,
     "metadata": {},
     "output_type": "execute_result"
    }
   ],
   "source": [
    "llm.invoke(\"hii\")"
   ]
  },
  {
   "cell_type": "code",
   "execution_count": 18,
   "metadata": {},
   "outputs": [],
   "source": [
    "from langchain_community.document_loaders import PyPDFLoader"
   ]
  },
  {
   "cell_type": "code",
   "execution_count": 27,
   "metadata": {},
   "outputs": [
    {
     "data": {
      "text/plain": [
       "2"
      ]
     },
     "execution_count": 27,
     "metadata": {},
     "output_type": "execute_result"
    }
   ],
   "source": [
    "file_path = r\"C:\\Users\\ROHIT\\OneDrive\\Desktop\\PN\\RohitVyavahare_DataScientist(AI_Engineer)_Resume.pdf\"\n",
    "loader = PyPDFLoader(file_path)\n",
    "docs=loader.load()\n",
    "len(docs)"
   ]
  },
  {
   "cell_type": "code",
   "execution_count": null,
   "metadata": {},
   "outputs": [],
   "source": [
    "from langchain_huggingface import HuggingFaceEmbeddings\n",
    "from langchain_text_splitters import RecursiveCharacterTextSplitter"
   ]
  },
  {
   "cell_type": "code",
   "execution_count": 33,
   "metadata": {},
   "outputs": [],
   "source": [
    "text_splitter = RecursiveCharacterTextSplitter(chunk_size=1000,chunk_overlap=50)\n",
    "splits=text_splitter.split_documents(docs)"
   ]
  },
  {
   "cell_type": "code",
   "execution_count": 36,
   "metadata": {},
   "outputs": [],
   "source": [
    "embeddings=HuggingFaceEmbeddings(model_name=\"all-MiniLM-L6-v2\")"
   ]
  },
  {
   "cell_type": "code",
   "execution_count": 65,
   "metadata": {},
   "outputs": [],
   "source": [
    "from langchain_qdrant import QdrantVectorStore\n",
    "from qdrant_client import QdrantClient\n",
    "from qdrant_client.http.models import Distance, VectorParams\n"
   ]
  },
  {
   "cell_type": "code",
   "execution_count": 74,
   "metadata": {},
   "outputs": [
    {
     "data": {
      "text/plain": [
       "True"
      ]
     },
     "execution_count": 74,
     "metadata": {},
     "output_type": "execute_result"
    }
   ],
   "source": [
    "client = QdrantClient(\":memory:\")\n",
    "\n",
    "client.create_collection(\n",
    "    collection_name=\"demo_collection\",\n",
    "    vectors_config=VectorParams(size=384, distance=Distance.COSINE),\n",
    ")"
   ]
  },
  {
   "cell_type": "code",
   "execution_count": 76,
   "metadata": {},
   "outputs": [],
   "source": [
    "vector_store = QdrantVectorStore(\n",
    "    client=client,\n",
    "    collection_name=\"demo_collection\",\n",
    "    embedding=embeddings\n",
    ")"
   ]
  },
  {
   "cell_type": "code",
   "execution_count": 81,
   "metadata": {},
   "outputs": [
    {
     "data": {
      "text/plain": [
       "['c0991076b9aa4cd19caf45f4208ab53f',\n",
       " 'e5d7e550be204855b17801317c7e4c76',\n",
       " '9f2c538851414e46b105c8b8aea76974',\n",
       " 'e059719b56844860a5f001de2fa0808f',\n",
       " '98664ae3fbc84afaab074e14736c13f9',\n",
       " 'a6435bd8457f4a0d989067f845489716',\n",
       " '786938cf8d0147bcab3db6b8531bb83b']"
      ]
     },
     "execution_count": 81,
     "metadata": {},
     "output_type": "execute_result"
    }
   ],
   "source": [
    "vector_store.add_documents(documents=splits)"
   ]
  },
  {
   "cell_type": "code",
   "execution_count": 93,
   "metadata": {},
   "outputs": [],
   "source": [
    "retreiver=vector_store.as_retriever()"
   ]
  },
  {
   "cell_type": "code",
   "execution_count": 96,
   "metadata": {},
   "outputs": [
    {
     "name": "stdout",
     "output_type": "stream",
     "text": [
      "* • Machine Learning: Strong knowledge of supervised and unsupervised learning algorithms, including SVMs, Logistic \n",
      "Regression, Linear Regression, and Clustering. Experienced with machine learning libraries such as Scikit-Learn. \n",
      "• Deep Learning: Hands-on experience with deep learning techniques including CNNs, RNNs, LSTMs, Encoder-\n",
      "Decoder architectures, Transformers, and BERT. Familiar with deep learning frameworks such as TensorFlow, \n",
      "Keras, and PyTorch. \n",
      "• Natural Language Processing (NLP): Skilled in applying NLP techniques to analyze and extract insights from text \n",
      "data. Proficient in using NLP libraries such as NLTK and working with GPT models for text generation and \n",
      "understanding. \n",
      "• API Development: Proficient in building and deploying APIs using FLASK & FastAPI \n",
      "• Generative AI (GenAI): Experienced with GPT, LLaMA, Gemma, Mistral, and Ollama models. Proficient in Hugging [{'source': 'C:\\\\Users\\\\ROHIT\\\\OneDrive\\\\Desktop\\\\PN\\\\RohitVyavahare_DataScientist(AI_Engineer)_Resume.pdf', 'page': 0, '_id': 'e5d7e550be204855b17801317c7e4c76', '_collection_name': 'demo_collection'}]\n",
      "* Face for deployment and fine-tuning. Hands-on with LangChain, LangGraph, and GroqAPI for AI workflows. Skilled \n",
      "in FAISS, Chroma, and Neo4j for vector search and graph storage. Expertise in RAG techniques, including embedding, \n",
      "vector stores, and fine-tuning methods like LoRA and QLoRA. \n",
      "_____________________________________________________________________________________________________________________________ ____________________ \n",
      "PROJECTS \n",
      "• Insurance Claim Prediction Model: Developed a model to predict customer insurance claims using demographic \n",
      "and behavioral data. Utilized classification algorithms such as logistic regression, decision trees, and random \n",
      "forests to build and evaluate models. Improved model performance through feature engineering and data  \n",
      "preprocessing techniques. Achieved 97% accuracy on the test set using the decision tree algorithm. Link \n",
      "• RAG Application for E-commerce Data:Processed e-commerce JSON data into a readable format. Used LangChain [{'source': 'C:\\\\Users\\\\ROHIT\\\\OneDrive\\\\Desktop\\\\PN\\\\RohitVyavahare_DataScientist(AI_Engineer)_Resume.pdf', 'page': 0, '_id': '9f2c538851414e46b105c8b8aea76974', '_collection_name': 'demo_collection'}]\n"
     ]
    }
   ],
   "source": [
    "results = vector_store.similarity_search(\n",
    "    \"LangChain provides abstractions to make working with LLMs easy\", k=2\n",
    ")\n",
    "for res in results:\n",
    "    print(f\"* {res.page_content} [{res.metadata}]\")"
   ]
  },
  {
   "cell_type": "code",
   "execution_count": null,
   "metadata": {},
   "outputs": [],
   "source": []
  }
 ],
 "metadata": {
  "kernelspec": {
   "display_name": "genai",
   "language": "python",
   "name": "python3"
  },
  "language_info": {
   "codemirror_mode": {
    "name": "ipython",
    "version": 3
   },
   "file_extension": ".py",
   "mimetype": "text/x-python",
   "name": "python",
   "nbconvert_exporter": "python",
   "pygments_lexer": "ipython3",
   "version": "3.10.16"
  }
 },
 "nbformat": 4,
 "nbformat_minor": 2
}
